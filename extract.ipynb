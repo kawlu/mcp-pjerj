{
 "cells": [
  {
   "cell_type": "code",
   "execution_count": null,
   "id": "fca8d907",
   "metadata": {},
   "outputs": [],
   "source": [
    "import time as ti\n",
    "import pandas as pd\n",
    "from pathlib import Path\n",
    "from datetime import datetime\n",
    "from bs4 import BeautifulSoup\n",
    "from selenium import webdriver\n",
    "from selenium.webdriver.common.by import By\n",
    "from selenium.webdriver.common.keys import Keys\n",
    "from selenium.webdriver.edge.service import Service\n",
    "from selenium.webdriver.edge.options import Options"
   ]
  },
  {
   "cell_type": "code",
   "execution_count": null,
   "id": "b2c64a60",
   "metadata": {},
   "outputs": [],
   "source": [
    "driver_path = 'msedgedriver.exe'\n",
    "service = Service(driver_path)\n",
    "driver = webdriver.Edge(service=service)"
   ]
  },
  {
   "cell_type": "code",
   "execution_count": null,
   "id": "f4b7f945",
   "metadata": {},
   "outputs": [],
   "source": [
    "URL_BASE = \"https://www3.tjrj.jus.br/ejuris/ConsultarJurisprudencia.aspx\"\n",
    "\n",
    "# TODO \n",
    "# Transformar isso em um input do MCP (reestruturar como tool)\n",
    "target = \"danos morais\""
   ]
  },
  {
   "cell_type": "code",
   "execution_count": null,
   "id": "d9238b94",
   "metadata": {},
   "outputs": [],
   "source": [
    "search_box_name = \"ctl00$ContentPlaceHolder1$txtTextoPesq\"\n",
    "tables_xpath = \"/html/body/div[1]/div/div[2]/form/div[3]/span/table/tbody/tr[6]/td\""
   ]
  },
  {
   "cell_type": "code",
   "execution_count": null,
   "id": "2f1159c1",
   "metadata": {},
   "outputs": [],
   "source": [
    "driver.get(URL_BASE)\n",
    "ti.sleep(2)\n",
    "\n",
    "\n",
    "search_box = driver.find_element(By.NAME, search_box_name)\n",
    "search_box.send_keys(target)\n",
    "search_box.send_keys(Keys.ENTER)\n",
    "\n",
    "ti.sleep(5)\n",
    "\n",
    "# Encontrar todas as tabelas\n",
    "# tables = soup.find_all(\"table\")\n",
    "\n",
    "elem = driver.find_element(By.XPATH, tables_xpath)\n",
    "html_content = elem.get_attribute(\"innerHTML\")\n",
    "soup = BeautifulSoup(html_content, \"html.parser\")\n",
    "tables = soup.find_all(\"table\")\n",
    "\n",
    "data = []\n",
    "\n",
    "for table in tables:\n",
    "    lines = table.find_all(\"tr\")\n",
    "\n",
    "    # Ignora tabelas menores da estrutura do site (ruídos)\n",
    "    if len(lines) >= 14:\n",
    "        processo_info = lines[3].get_text(strip=True)\n",
    "        processo_num, processo_tipo = processo_info.split('- ')\n",
    "        ementa = lines[5].get_text(strip=True)\n",
    "        julgamento_info = lines[6].get_text(strip=True)\n",
    "        desembargador, julg_data, camara = julgamento_info.split(' - ')\n",
    "        desembargador = desembargador.replace('Des(a). ', '').strip()\n",
    "        julg_data = julg_data.replace('Julgamento: ', '').strip()\n",
    "        resumo = lines[10].get_text(\" \", strip=True)  # usa separador para manter espaços\n",
    "        publicacao = lines[13].get_text(strip=True)\n",
    "        publicacao = publicacao.split(\"Data de Publicação: \")[-1].removesuffix(\"(*)\").strip()\n",
    "\n",
    "        # Adiciona no dataset\n",
    "        data.append({\n",
    "            \"Número do Processo\": processo_num,\n",
    "            \"Tipo do Processo\": processo_tipo,\n",
    "            \"Ementa\": ementa,\n",
    "            \"Desembargador\": desembargador,\n",
    "            \"Data do Julgamento\": julg_data,\n",
    "            \"Câmara\": camara,\n",
    "            \"Resumo\": resumo,\n",
    "            \"Data da Publicação\": publicacao\n",
    "        })\n",
    "\n",
    "df = pd.DataFrame(data)\n",
    "\n",
    "display(df)\n",
    "\n",
    "driver.quit()\n"
   ]
  }
 ],
 "metadata": {
  "kernelspec": {
   "display_name": "Python 3",
   "language": "python",
   "name": "python3"
  },
  "language_info": {
   "codemirror_mode": {
    "name": "ipython",
    "version": 3
   },
   "file_extension": ".py",
   "mimetype": "text/x-python",
   "name": "python",
   "nbconvert_exporter": "python",
   "pygments_lexer": "ipython3",
   "version": "3.12.10"
  }
 },
 "nbformat": 4,
 "nbformat_minor": 5
}
